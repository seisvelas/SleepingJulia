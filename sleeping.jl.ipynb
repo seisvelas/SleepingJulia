{
 "cells": [
  {
   "cell_type": "markdown",
   "metadata": {},
   "source": [
    "## Sleeping Julia\n",
    "\n",
    "I originally set out to prove the halfer interpretation of the [Sleeping Beauty Problem](https://en.wikipedia.org/wiki/Sleeping_Beauty_problem) by building a simulation to confirm my intuition. Unfortunately, in doing so, I realized I'd fundamentally misunderstood the math and, if I fixed my error, I ironically affirm the thirder position I had wanted to disprove.\n",
    "\n",
    "Below is the current code for a simulation that affirms the thirder position. I call this simulation Sleeping Julia because it's written in Julia, and because I first learned about this problem from a Youtube video by Julia Galef."
   ]
  },
  {
   "cell_type": "code",
   "execution_count": 1,
   "metadata": {},
   "outputs": [
    {
     "name": "stdout",
     "output_type": "stream",
     "text": [
      "When Sleeping Beauty guesses heads she is right 33.38% of the time\n",
      "When Sleeping Beauty guesses tails she is right 66.75% of the time\n"
     ]
    }
   ],
   "source": [
    "###\n",
    "# This runs the experiment [repititions] times, checking to see\n",
    "# how well a given bet (either heads or tails) performs in\n",
    "# the Sleeping Beauty Problem. \n",
    "###\n",
    "function sleeping_beauty_experiment(repititions, bet)\n",
    "    # Number of times Sleeping Beauty's bet is correct\n",
    "    correct_bets = 0\n",
    "\n",
    "    # To see how well SB does, we need to see how often\n",
    "    # she's right compared to the number of times she's woken up.\n",
    "    # This is different than the number of times we run the experiment\n",
    "    # because on tails, she gets woken up and interviewed *twice*\n",
    "    wakeups = 0\n",
    "    \n",
    "    for i = 1:repititions\n",
    "        coin_result = rand([\"heads\", \"tails\"])\n",
    "        \n",
    "        # On Monday, sleeping beauty makes a bet\n",
    "        # (she is awoken Monday whether the coin\n",
    "        # is heads or tails)\n",
    "        correct_bets += coin_result == bet\n",
    "        wakeups += 1\n",
    "\n",
    "        # However, if the coin is tails we will\n",
    "        # wake her up *again* on Teusday and\n",
    "        # she will make another bet\n",
    "        if coin_result == \"tails\"\n",
    "            # If the coin was tails, we\n",
    "            # interview SB a second time\n",
    "            correct_bets += coin_result == bet\n",
    "            wakeups += 1\n",
    "        end\n",
    "        # Note that on tails, she makes two bets.\n",
    "        # One on Monday, and another on Teusday.\n",
    "        # Thus out of 100 experiments, she should\n",
    "        # be awoken (and therefore interviewed) ~150 times\n",
    "    end\n",
    "\n",
    "    # Our result is the number of correct bets\n",
    "    # SB made out of the total number of times\n",
    "    # she is awoken. \n",
    "    correct_bets / wakeups\n",
    "end\n",
    "\n",
    "heads_result = sleeping_beauty_experiment(100_000, \"heads\")\n",
    "tails_result = sleeping_beauty_experiment(100_000, \"tails\")\n",
    "\n",
    "## Approximate decimals to two decimal places for friendlier presentation\n",
    "rounded_heads_pct = round(heads_result * 100, digits=2)\n",
    "rounded_tails_pct = round(tails_result * 100, digits=2)\n",
    "\n",
    "println(\"When Sleeping Beauty guesses heads she is right $(rounded_heads_pct)% of the time\")\n",
    "println(\"When Sleeping Beauty guesses tails she is right $(rounded_tails_pct)% of the time\")\n"
   ]
  },
  {
   "cell_type": "markdown",
   "metadata": {},
   "source": [
    "In the original simulation, I hadn't accounted for SB being woken up _twice_ every tails. Instead, I had treated it as though she would be interviewed on either tails(monday) | tails(tuesday). If that were the case, the halfer position would be the correct one. \n",
    "\n",
    "Here is the original Python code, for those who are curious to see my mistake:"
   ]
  },
  {
   "cell_type": "code",
   "execution_count": 1,
   "metadata": {},
   "outputs": [
    {
     "name": "stdout",
     "output_type": "stream",
     "text": [
      "If sleeping beauty always bets on heads, she is right 50.059% of the time\n"
     ]
    }
   ],
   "source": [
    "import random\n",
    "from collections import OrderedDict\n",
    "\n",
    "def experiment_result(coin, day):\n",
    "  return OrderedDict({\n",
    "    \"coin\": coin,\n",
    "    \"day\": day\n",
    "  })\n",
    "\n",
    "\n",
    "# This runs an emulation of the SB problem and returns\n",
    "# one of the possible coin/day outcomes (ie, flips a coin \n",
    "# and wakes up SB on a given day so she can guess which\n",
    "# day it is).\n",
    "def emulate_sleeping_beauty():\n",
    "  \"\"\"\n",
    "  returns 1 of 3 possible states:\n",
    "  { \"coin\": \"heads\", \"day\": \"monday\"}\n",
    "  { \"coin\": \"tails\", \"day\": \"monday\"}\n",
    "  { \"coin\": \"tails\", \"day\": \"tuesday\"}\n",
    "  \"\"\"\n",
    "  coin_toss = random.choice([\"heads\", \"tails\"])\n",
    "\n",
    "  if coin_toss == \"heads\":\n",
    "    # the probability of entering this\n",
    "    # possible world is 50%\n",
    "    return experiment_result(\"heads\", \"monday\")\n",
    "\n",
    "  # If we make it here, then the coin \n",
    "  # came up false. We enter this possible world\n",
    "  # 50% of the time. \n",
    "  # Sleeping beauty is being woken up on either\n",
    "  # Monday or Tuesday. The odds of either are equal,\n",
    "  # so during each emulation we decide randomly\n",
    "  # which day it is currently\n",
    "  current_day = random.choice([\"monday\", \"tuesday\"])\n",
    "\n",
    "  if current_day == \"monday\":\n",
    "    # The odds between monday and teusday\n",
    "    # if the coin is tails are 50:50.\n",
    "    # But recall we only have a 50% chance\n",
    "    # of getting tails.\n",
    "    # 50% (chance of tails) * 50% (chance of monday within tails) = 25%.\n",
    "    # So there's a 25% chance we enter this possible world.\n",
    "    return experiment_result(\"tails\", \"monday\")\n",
    "\n",
    "  # The only remaining possibility the coin lands on tails\n",
    "  # AND it is not monday, is that the coin landed on tails\n",
    "  # and it is tuesday. Since monday and teusday are equally\n",
    "  # likely within the tails world, this has the same \n",
    "  # likelihood as the previous possible world: 25%\n",
    "  return experiment_result(\"tails\", \"tuesday\")\n",
    "\n",
    "\n",
    "# We emulate a sleeping beauty experiment and have her bet \n",
    "# whether the coin landed on heads or tails\n",
    "def make_bet(guess):\n",
    "  emulation_result = emulate_sleeping_beauty()\n",
    "  coin, day = emulation_result.values()\n",
    "  return coin == guess\n",
    "\n",
    "\n",
    "repititions = 100_000\n",
    "\n",
    "# Now we will run the experiment 100,000 times\n",
    "# (to reduce statistical noise) and see whether we\n",
    "# get heads 1/3 or 1/2 of the time, or something\n",
    "# else entirely!\n",
    "wins = [make_bet(\"heads\") for i in range(repititions)].count(True)\n",
    "\n",
    "# This consistently gives a result within 1 percent of 50%\n",
    "win_pct = wins / repititions * 100\n",
    "\n",
    "print(f\"If sleeping beauty always bets on heads, she is right {win_pct}% of the time\")"
   ]
  },
  {
   "cell_type": "markdown",
   "metadata": {},
   "source": [
    "I was very gleeful to have 'proven' the minority, halfer position with this script. When I realized my mistake and instead proved the already dominant thirder interpretation, I was less enthusiastic. Why?\n",
    "\n",
    "The real lesson for me is that I am deeply prejudiced in favor of quirky, obscure beliefs, and against predominant or mainstream beliefs. Makes me wonder how much of my broader belief system is influenced by this bias. Even my fixed, new simulation includes an example of such bias, vis-a-vis my decision to code it in (quirky, obscure) Julia instead of (boring, mainstream) Python.\n",
    "\n",
    "---\n",
    "\n",
    "Improvements to this notebook are encouraged! This is my first time using Julia so my usage is probably suboptimal and unidiomatic. Go here to contribute: https://github.com/seisvelas/SleepingJulia"
   ]
  }
 ],
 "metadata": {
  "kernelspec": {
   "display_name": "Python 3",
   "language": "python",
   "name": "python3"
  },
  "language_info": {
   "codemirror_mode": {
    "name": "ipython",
    "version": 3
   },
   "file_extension": ".py",
   "mimetype": "text/x-python",
   "name": "python",
   "nbconvert_exporter": "python",
   "pygments_lexer": "ipython3",
   "version": "3.8.3"
  }
 },
 "nbformat": 4,
 "nbformat_minor": 4
}
